{
 "cells": [
  {
   "cell_type": "code",
   "execution_count": 19,
   "id": "extra-bearing",
   "metadata": {},
   "outputs": [],
   "source": [
    "import numpy as np\n",
    "from stacking_fmri import stacking_CV_fmri, stacking_fmri\n",
    "from ridge_tools import R2\n",
    "import matplotlib.pyplot as plt\n",
    "import seaborn as sns"
   ]
  },
  {
   "cell_type": "code",
   "execution_count": 2,
   "id": "confidential-punch",
   "metadata": {},
   "outputs": [],
   "source": [
    "### Set up or load features\n",
    "\n",
    "N_sample = 1000\n",
    "dim_X1 = 50\n",
    "dim_X2 = 100\n",
    "dim_X3 = 25\n",
    "\n",
    "X1 = np.random.randn(N_sample, dim_X1)\n",
    "X2 = np.random.randn(N_sample, dim_X2)\n",
    "X3 = np.random.randn(N_sample, dim_X3)\n",
    "\n",
    "#X1 = np.load('....')"
   ]
  },
  {
   "cell_type": "code",
   "execution_count": 32,
   "id": "boring-occurrence",
   "metadata": {},
   "outputs": [],
   "source": [
    "### Set up or load brain data (fMRI, EEG, ....)\n",
    "\n",
    "dim_Y = 10\n",
    "\n",
    "# Y = np.random.randn(N_sample, dim_Y)\n",
    "Y = 0.3 * X1.dot(np.random.randn(dim_X1, dim_Y)) + \\\n",
    "    0.3 * X2.dot(np.random.randn(dim_X2, dim_Y)) + \\\n",
    "    0.4 * X3.dot(np.random.randn(dim_X3, dim_Y))\n",
    "\n",
    "#Y = np.load('....')"
   ]
  },
  {
   "cell_type": "code",
   "execution_count": 33,
   "id": "buried-charger",
   "metadata": {},
   "outputs": [
    {
     "name": "stdout",
     "output_type": "stream",
     "text": [
      "(3, 250)\n",
      "(3, 250)\n",
      "(3, 250)\n",
      "(3, 250)\n"
     ]
    }
   ],
   "source": [
    "### Run stacking using multiple features (Xs) and Y\n",
    "\n",
    "\n",
    "## with the outermost cross-validation\n",
    "r2s, stacked_r2s, _, _, _, S_average = stacking_CV_fmri(Y, [X1,X2,X3], method = 'cross_val_ridge',n_folds = 4,score_f=R2)",
    "\n",
    "\n",
    "## simple train-test setting (without the outermost cross-validation)\n",
    "# r2s, stacked_r2s, _, _, _, S_average = stacking_fmri(Y[0:700], Y[700:], [X1[0:700],X2[0:700],X3[0:700]], [X1[700:],X2[700:],X3[700:]], method = 'cross_val_ridge',score_f=R2)"
   ]
  },
  {
   "cell_type": "code",
   "execution_count": 34,
   "id": "chinese-sussex",
   "metadata": {},
   "outputs": [
    {
     "name": "stdout",
     "output_type": "stream",
     "text": [
      "shape of r2s is (number of features, dim_Y), that is (3, 10)\n",
      "shape of stacked_r2s is (dim_Y, ), that is (10,)\n",
      "shape of S_average is (dim_Y, num of features), that is (10, 3)\n"
     ]
    }
   ],
   "source": [
    "### Results\n",
    "\n",
    "## r2s: voxelwise R2(predictions using only one feature, data)\n",
    "print('shape of r2s is (number of features, dim_Y), that is', r2s.shape)\n",
    "\n",
    "## stacked_r2s: voxelwise R2(stacking predictions using all features, data)\n",
    "print('shape of stacked_r2s is (dim_Y, ), that is', stacked_r2s.shape)\n",
    "\n",
    "## S_average: optimzed voxelwise stacking weights showing how different features are combined\n",
    "print('shape of S_average is (dim_Y, num of features), that is', S_average.shape)\n",
    "\n"
   ]
  },
  {
   "cell_type": "code",
   "execution_count": 37,
   "id": "curious-blanket",
   "metadata": {},
   "outputs": [
    {
     "data": {
      "text/plain": [
       "Text(0.5, 1.0, 'Prediction Performance')"
      ]
     },
     "execution_count": 37,
     "metadata": {},
     "output_type": "execute_result"
    },
    {
     "data": {
      "image/png": "[encoded data removed]",
      "text/plain": [
       "<Figure size 720x432 with 1 Axes>"
      ]
     },
     "metadata": {
      "needs_background": "light"
     },
     "output_type": "display_data"
    }
   ],
   "source": [
    "plt.figure(figsize=(10,6))\n",
    "\n",
    "bar_width = 0.2\n",
    "index_0 = np.arange(dim_Y)\n",
    "index_1 = index_0 + bar_width\n",
    "index_2 = index_1 + bar_width\n",
    "index_3 = index_2 + bar_width\n",
    "\n",
    "\n",
    "plt.bar(index_0, stacked_r2s, width=bar_width, label='Stacking of X1,2,3')\n",
    "plt.bar(index_1, r2s[0,:], width=bar_width, label='X1')\n",
    "plt.bar(index_2, r2s[1,:], width=bar_width, label='X2')\n",
    "plt.bar(index_3, r2s[2,:], width=bar_width, label='X3')\n",
    "plt.legend()\n",
    "plt.xlabel('Voxel ID')\n",
    "plt.ylabel('R2')\n",
    "plt.title('Prediction Performance')"
   ]
  },
  {
   "cell_type": "code",
   "execution_count": 45,
   "id": "smoking-merchant",
   "metadata": {},
   "outputs": [
    {
     "data": {
      "text/plain": [
       "([<matplotlib.axis.YTick at 0x7fd499373150>,\n",
       "  <matplotlib.axis.YTick at 0x7fd4a956ab50>,\n",
       "  <matplotlib.axis.YTick at 0x7fd4680841d0>],\n",
       " [Text(0, 0.5, 'X1'), Text(0, 1.5, 'X2'), Text(0, 2.5, 'X3')])"
      ]
     },
     "execution_count": 45,
     "metadata": {},
     "output_type": "execute_result"
    },
    {
     "data": {
      "image/png": "[encoded data removed]",
      "text/plain": [
       "<Figure size 432x288 with 2 Axes>"
      ]
     },
     "metadata": {
      "needs_background": "light"
     },
     "output_type": "display_data"
    }
   ],
   "source": [
    "sns.heatmap(S_average.T, vmin=0, vmax=1)\n",
    "plt.xlabel('Voxel ID')\n",
    "plt.ylabel('Feature')\n",
    "plt.yticks([0.5,1.5,2.5],['X1', 'X2', 'X3'])"
   ]
  },
  {
   "cell_type": "code",
   "execution_count": null,
   "id": "answering-fireplace",
   "metadata": {},
   "outputs": [],
   "source": []
  }
 ],
 "metadata": {
  "kernelspec": {
   "display_name": "Python 3",
   "language": "python",
   "name": "python3"
  },
  "language_info": {
   "codemirror_mode": {
    "name": "ipython",
    "version": 3
   },
   "file_extension": ".py",
   "mimetype": "text/x-python",
   "name": "python",
   "nbconvert_exporter": "python",
   "pygments_lexer": "ipython3",
   "version": "3.7.9"
  }
 },
 "nbformat": 4,
 "nbformat_minor": 5
}
